{
 "cells": [
  {
   "cell_type": "code",
   "execution_count": 4,
   "id": "abb93568",
   "metadata": {},
   "outputs": [
    {
     "name": "stdout",
     "output_type": "stream",
     "text": [
      "OK\n"
     ]
    }
   ],
   "source": [
    "print(\"OK\")"
   ]
  },
  {
   "cell_type": "code",
   "execution_count": 5,
   "id": "5cc92e49",
   "metadata": {},
   "outputs": [
    {
     "data": {
      "text/plain": [
       "'d:\\\\Ashok\\\\AI\\\\2082_projects\\\\PRACTISES\\\\Medical_CHATBOT\\\\research'"
      ]
     },
     "execution_count": 5,
     "metadata": {},
     "output_type": "execute_result"
    }
   ],
   "source": [
    "%pwd"
   ]
  },
  {
   "cell_type": "code",
   "execution_count": 6,
   "id": "7f8fac40",
   "metadata": {},
   "outputs": [
    {
     "data": {
      "text/plain": [
       "'D:\\\\Ashok\\\\AI\\\\2082_projects\\\\PRACTISES\\\\Medical_CHATBOT'"
      ]
     },
     "execution_count": 6,
     "metadata": {},
     "output_type": "execute_result"
    }
   ],
   "source": [
    "import os\n",
    "os.chdir(r\"D:\\Ashok\\AI\\2082_projects\\PRACTISES\\Medical_CHATBOT\")\n",
    "%pwd"
   ]
  },
  {
   "cell_type": "code",
   "execution_count": 7,
   "id": "6d7abdb0",
   "metadata": {},
   "outputs": [],
   "source": [
    "from langchain.document_loaders import PyPDFLoader, DirectoryLoader #for loading pdf files\n",
    "from langchain.text_splitter import RecursiveCharacterTextSplitter  #for chunking"
   ]
  },
  {
   "cell_type": "code",
   "execution_count": 8,
   "id": "a1347460",
   "metadata": {},
   "outputs": [],
   "source": [
    "# #load the pdf\n",
    "\n",
    "# def load_pdf_file(data):\n",
    "#     loader = DirectoryLoader(data, glob=\"**/*.pdf\", loader_cls =PyPDFLoader)\n",
    "    \n",
    "#     documents = loader.load()\n",
    "    \n",
    "#     return documents\n"
   ]
  },
  {
   "cell_type": "code",
   "execution_count": 9,
   "id": "0608fe4d",
   "metadata": {},
   "outputs": [],
   "source": [
    "# extracted_data = load_pdf_file(data= 'Data/')"
   ]
  },
  {
   "cell_type": "code",
   "execution_count": 10,
   "id": "5cb7140c",
   "metadata": {},
   "outputs": [],
   "source": [
    "# extracted_data"
   ]
  },
  {
   "cell_type": "markdown",
   "id": "ce11338a",
   "metadata": {},
   "source": [
    "## Perform CHUNKING"
   ]
  },
  {
   "cell_type": "code",
   "execution_count": 11,
   "id": "4d3c6066",
   "metadata": {},
   "outputs": [],
   "source": [
    "# # split the data into chunks\n",
    "# def text_split(extracted_data):\n",
    "#     text_splitter = RecursiveCharacterTextSplitter(\n",
    "#         chunk_size=500,\n",
    "#         chunk_overlap=20,\n",
    "#     )\n",
    "#     text_chunks = text_splitter.split_documents(extracted_data)\n",
    "#     return text_chunks"
   ]
  },
  {
   "cell_type": "code",
   "execution_count": 12,
   "id": "1a5e38c0",
   "metadata": {},
   "outputs": [],
   "source": [
    "# text_chunks = text_split(extracted_data)\n",
    "# print(\"length of text chunks: \", len(text_chunks))"
   ]
  },
  {
   "cell_type": "markdown",
   "id": "d8465699",
   "metadata": {},
   "source": [
    "## Embedding to vector DB with pinecone"
   ]
  },
  {
   "cell_type": "code",
   "execution_count": 23,
   "id": "9e241f9b",
   "metadata": {},
   "outputs": [],
   "source": [
    "from langchain.embeddings import HuggingFaceEmbeddings"
   ]
  },
  {
   "cell_type": "code",
   "execution_count": 24,
   "id": "6105d5c2",
   "metadata": {},
   "outputs": [],
   "source": [
    "#Download the embedding model from hugging face\n",
    "\n",
    "def download_hugging_face_embeddings():\n",
    "    embeddings = HuggingFaceEmbeddings(model_name = 'sentence-transformers/all-MiniLM-L6-v2')\n",
    "    return embeddings"
   ]
  },
  {
   "cell_type": "code",
   "execution_count": 25,
   "id": "86ccef24",
   "metadata": {},
   "outputs": [
    {
     "name": "stderr",
     "output_type": "stream",
     "text": [
      "C:\\Users\\ashok\\AppData\\Local\\Temp\\ipykernel_18044\\2396306128.py:4: LangChainDeprecationWarning: The class `HuggingFaceEmbeddings` was deprecated in LangChain 0.2.2 and will be removed in 1.0. An updated version of the class exists in the :class:`~langchain-huggingface package and should be used instead. To use it run `pip install -U :class:`~langchain-huggingface` and import as `from :class:`~langchain_huggingface import HuggingFaceEmbeddings``.\n",
      "  embeddings = HuggingFaceEmbeddings(model_name = 'sentence-transformers/all-MiniLM-L6-v2')\n"
     ]
    }
   ],
   "source": [
    "embeddings = download_hugging_face_embeddings()"
   ]
  },
  {
   "cell_type": "code",
   "execution_count": 16,
   "id": "a08a8684",
   "metadata": {},
   "outputs": [],
   "source": [
    "# query_result = embeddings.embed_query(\"Hello World\")\n",
    "# print(\"Length of query result: \", len(query_result))"
   ]
  },
  {
   "cell_type": "code",
   "execution_count": 17,
   "id": "2f30f434",
   "metadata": {},
   "outputs": [],
   "source": [
    "# query_result"
   ]
  },
  {
   "cell_type": "code",
   "execution_count": 18,
   "id": "68a630a8",
   "metadata": {},
   "outputs": [],
   "source": [
    "from dotenv import load_dotenv\n",
    "\n",
    "load_dotenv()\n",
    "PINECONE_API_KEY = os.environ.get('PINECONE_API_KEY')\n",
    "GEMINI_API_KEY = os.environ.get('GEMINI_API_KEY')"
   ]
  },
  {
   "cell_type": "code",
   "execution_count": 20,
   "id": "12628182",
   "metadata": {},
   "outputs": [],
   "source": [
    "# from pinecone.grpc import PineconeGRPC as Pinecone\n",
    "# from pinecone import ServerlessSpec\n",
    "# import os\n",
    "\n",
    "# pc = Pinecone(api_key=PINECONE_API_KEY)\n",
    "\n",
    "# index_name = \"medical-chatbot\"\n",
    "\n",
    "# pc.create_index(\n",
    "#     name=index_name,\n",
    "#     dimension=384,  # 384 is the dimension of the all-MiniLM-L6-v2 model\n",
    "#     metric=\"cosine\",\n",
    "#     spec = ServerlessSpec(\n",
    "#         cloud=\"aws\",\n",
    "#         region=\"us-east-1\"\n",
    "#     )\n",
    "# )     "
   ]
  },
  {
   "cell_type": "code",
   "execution_count": 63,
   "id": "27279ad1",
   "metadata": {},
   "outputs": [],
   "source": [
    "# #Embed each chunk and upsert the embedding into oyur PInecone index\n",
    "# from langchain_pinecone import PineconeVectorStore\n",
    "\n",
    "# docsearch = PineconeVectorStore.from_documents(\n",
    "#     documents = text_chunks, # list of documents to be embedded\n",
    "#     index_name = index_name, # name of the index to upsert the embeddings into\n",
    "#     embedding = embeddings, # embedding model to use for embedding the documents\n",
    "# )"
   ]
  },
  {
   "cell_type": "code",
   "execution_count": 26,
   "id": "4342b72c",
   "metadata": {},
   "outputs": [],
   "source": [
    "#Load existing index\n",
    "from langchain_pinecone import PineconeVectorStore\n",
    "#Embed each chunk and embeddings into your Pinecone index\n",
    "docsearch = PineconeVectorStore.from_existing_index(\n",
    "    index_name = index_name, # name of the index to upsert the embeddings into\n",
    "    embedding = embeddings, # embedding model to use for embedding the documents\n",
    ")\n"
   ]
  },
  {
   "cell_type": "code",
   "execution_count": 27,
   "id": "43abeb1a",
   "metadata": {},
   "outputs": [
    {
     "data": {
      "text/plain": [
       "<langchain_pinecone.vectorstores.PineconeVectorStore at 0x1857ef89f70>"
      ]
     },
     "execution_count": 27,
     "metadata": {},
     "output_type": "execute_result"
    }
   ],
   "source": [
    "docsearch"
   ]
  },
  {
   "cell_type": "code",
   "execution_count": 28,
   "id": "8b684933",
   "metadata": {},
   "outputs": [],
   "source": [
    "retriever = docsearch.as_retriever(search_type='similarity', search_kwargs={\"k\": 3}) # k is the number of documents to retrieve"
   ]
  },
  {
   "cell_type": "code",
   "execution_count": 29,
   "id": "84e3a06b",
   "metadata": {},
   "outputs": [],
   "source": [
    "retrieved_docs = retriever.invoke(\"What is Acne?\")"
   ]
  },
  {
   "cell_type": "code",
   "execution_count": 30,
   "id": "b3b1cea0",
   "metadata": {},
   "outputs": [
    {
     "data": {
      "text/plain": [
       "[Document(id='fbf89ce8-61a6-4719-9ad9-939f3b1dac0a', metadata={'creationdate': '2004-12-18T17:00:02-05:00', 'creator': 'PyPDF', 'moddate': '2004-12-18T16:15:31-06:00', 'page': 39.0, 'page_label': '40', 'producer': 'PDFlib+PDI 5.0.0 (SunOS)', 'source': 'Data\\\\Book.pdf', 'total_pages': 637.0}, page_content='GALE ENCYCLOPEDIA OF MEDICINE 226\\nAcne\\nGEM - 0001 to 0432 - A  10/22/03 1:41 PM  Page 26'),\n",
       " Document(id='1d3a4765-3256-4256-b75a-10fa4f7cbd05', metadata={'creationdate': '2004-12-18T17:00:02-05:00', 'creator': 'PyPDF', 'moddate': '2004-12-18T16:15:31-06:00', 'page': 38.0, 'page_label': '39', 'producer': 'PDFlib+PDI 5.0.0 (SunOS)', 'source': 'Data\\\\Book.pdf', 'total_pages': 637.0}, page_content='GALE ENCYCLOPEDIA OF MEDICINE 2 25\\nAcne\\nAcne vulgaris affecting a woman’s face. Acne is the general\\nname given to a skin disorder in which the sebaceous\\nglands become inflamed.(Photograph by Biophoto Associ-\\nates, Photo Researchers, Inc. Reproduced by permission.)\\nGEM - 0001 to 0432 - A  10/22/03 1:41 PM  Page 25'),\n",
       " Document(id='3c320a04-21e2-4b95-83d3-04b5813a29c3', metadata={'creationdate': '2004-12-18T17:00:02-05:00', 'creator': 'PyPDF', 'moddate': '2004-12-18T16:15:31-06:00', 'page': 37.0, 'page_label': '38', 'producer': 'PDFlib+PDI 5.0.0 (SunOS)', 'source': 'Data\\\\Book.pdf', 'total_pages': 637.0}, page_content='Acidosis see Respiratory acidosis; Renal\\ntubular acidosis; Metabolic acidosis\\nAcne\\nDefinition\\nAcne is a common skin disease characterized by\\npimples on the face, chest, and back. It occurs when the\\npores of the skin become clogged with oil, dead skin\\ncells, and bacteria.\\nDescription\\nAcne vulgaris, the medical term for common acne, is\\nthe most common skin disease. It affects nearly 17 million\\npeople in the United States. While acne can arise at any')]"
      ]
     },
     "execution_count": 30,
     "metadata": {},
     "output_type": "execute_result"
    }
   ],
   "source": [
    "retrieved_docs"
   ]
  },
  {
   "cell_type": "markdown",
   "id": "60aa4079",
   "metadata": {},
   "source": [
    "## Connecting LLM with the Knowledge base"
   ]
  },
  {
   "cell_type": "code",
   "execution_count": 31,
   "id": "9db1b6cd",
   "metadata": {},
   "outputs": [],
   "source": [
    "from langchain_google_genai import ChatGoogleGenerativeAI\n",
    "\n",
    "llm = ChatGoogleGenerativeAI(\n",
    "    model=\"gemini-2.0-flash\",\n",
    "    temperature=0,\n",
    "    max_tokens=1000,\n",
    "    timeout=None,\n",
    "    max_retries=2,\n",
    "    google_api_key=GEMINI_API_KEY\n",
    ")"
   ]
  },
  {
   "cell_type": "code",
   "execution_count": 32,
   "id": "1528829d",
   "metadata": {},
   "outputs": [],
   "source": [
    "from langchain.chains import create_retrieval_chain\n",
    "from langchain.chains.combine_documents import create_stuff_documents_chain\n",
    "from langchain_core.prompts import ChatPromptTemplate\n",
    "\n",
    "system_prompt = (\n",
    "    \"You are an assistant for question-answering tasks. \"\n",
    "    \"Use only the retrieved context to answer the question. \"\n",
    "    \"If the context does not contain the answer, say 'I don't know based on the provided context.' \"\n",
    "    \"Do not attempt to answer from your own knowledge. \"\n",
    "    \"Use three sentences maximum and keep the answer concise.\"\n",
    "    \"\\n\\n\"\n",
    "    \"Context:\\n{context}\"\n",
    ")\n",
    "\n",
    "\n",
    "prompt = ChatPromptTemplate.from_messages(\n",
    "    [\n",
    "        (\"system\", system_prompt),\n",
    "        (\"human\", \"{context}\"),   \n",
    "    ]\n",
    ")"
   ]
  },
  {
   "cell_type": "code",
   "execution_count": 33,
   "id": "560c62de",
   "metadata": {},
   "outputs": [],
   "source": [
    "question_answer_chain = create_stuff_documents_chain(llm, prompt)\n",
    "rag_chain = create_retrieval_chain(retriever, question_answer_chain)"
   ]
  },
  {
   "cell_type": "code",
   "execution_count": 34,
   "id": "77674c3b",
   "metadata": {},
   "outputs": [
    {
     "name": "stdout",
     "output_type": "stream",
     "text": [
      "Treatment for mild noninflammatory acne consists of reducing the formation of new comedones with topical tretinoin, benzoyl peroxide, adapalene, or salicylic acid. Tretinoin is especially effective because it increases turnover of skin cells. When complicated by inflammation, topical antibiotics may be added to the treatment.\n"
     ]
    }
   ],
   "source": [
    "response = rag_chain.invoke({\"input\": \"What is the treatmenet for Acne?\"})\n",
    "print(response['answer'])"
   ]
  },
  {
   "cell_type": "code",
   "execution_count": 112,
   "id": "63a3cb08",
   "metadata": {},
   "outputs": [
    {
     "name": "stdout",
     "output_type": "stream",
     "text": [
      "I'm sorry, but the question you're asking is missing. Please provide the question so I can answer it using the provided context.\n"
     ]
    }
   ],
   "source": [
    "query = \"What is CPU\"\n",
    "docs = retriever.get_relevant_documents(query)\n",
    "\n",
    "if not docs:\n",
    "    print(\"No relevant medical documents found.\")\n",
    "else:\n",
    "    response = rag_chain.invoke({\"input\": query})\n",
    "    print(response['answer'])\n",
    "\n"
   ]
  },
  {
   "cell_type": "code",
   "execution_count": null,
   "id": "e462a220",
   "metadata": {},
   "outputs": [],
   "source": []
  }
 ],
 "metadata": {
  "kernelspec": {
   "display_name": "venv",
   "language": "python",
   "name": "python3"
  },
  "language_info": {
   "codemirror_mode": {
    "name": "ipython",
    "version": 3
   },
   "file_extension": ".py",
   "mimetype": "text/x-python",
   "name": "python",
   "nbconvert_exporter": "python",
   "pygments_lexer": "ipython3",
   "version": "3.12.7"
  }
 },
 "nbformat": 4,
 "nbformat_minor": 5
}
